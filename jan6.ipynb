{
 "cells": [
  {
   "attachments": {},
   "cell_type": "markdown",
   "id": "65e5da01",
   "metadata": {},
   "source": [
    "# Task 1: Install NLTK"
   ]
  },
  {
   "cell_type": "code",
   "execution_count": null,
   "id": "912ce68f",
   "metadata": {},
   "outputs": [],
   "source": [
    "!pip3 install nltk"
   ]
  },
  {
   "attachments": {},
   "cell_type": "markdown",
   "id": "2f1b00d9",
   "metadata": {},
   "source": [
    "### from nltk import all classes, functions and variables"
   ]
  },
  {
   "cell_type": "code",
   "execution_count": null,
   "metadata": {},
   "outputs": [],
   "source": [
    "from nltk import *"
   ]
  },
  {
   "attachments": {},
   "cell_type": "markdown",
   "id": "44724e96",
   "metadata": {},
   "source": [
    "# Task 2: Download all datasets and books"
   ]
  },
  {
   "cell_type": "code",
   "execution_count": null,
   "id": "4c943bd0",
   "metadata": {},
   "outputs": [],
   "source": [
    "nltk.download()"
   ]
  },
  {
   "attachments": {},
   "cell_type": "markdown",
   "id": "13e89a10",
   "metadata": {},
   "source": [
    "# Task 3: Import brown corpus and check categories of the brown corpus"
   ]
  },
  {
   "cell_type": "code",
   "execution_count": null,
   "id": "63feced9",
   "metadata": {},
   "outputs": [],
   "source": [
    "from nltk.corpus import brown\n",
    "\n",
    "brown.categories()"
   ]
  },
  {
   "attachments": {},
   "cell_type": "markdown",
   "id": "1c79ed75",
   "metadata": {},
   "source": [
    "# Task 4: Import Inagural Corpus and check fields. \n"
   ]
  },
  {
   "attachments": {},
   "cell_type": "markdown",
   "id": "6e98ffad",
   "metadata": {},
   "source": [
    "#### According to the quesiton asked in class, find similarity of inaugural speech between Abraham Lincoln, Barack Obama and Donald J. Trump"
   ]
  },
  {
   "cell_type": "code",
   "execution_count": null,
   "id": "492c8a64",
   "metadata": {},
   "outputs": [],
   "source": [
    "from nltk.corpus import inaugural\n",
    "inaugural.fileids()"
   ]
  },
  {
   "attachments": {},
   "cell_type": "markdown",
   "id": "d5719dfb",
   "metadata": {},
   "source": [
    "### Words of Abraham Lincoln in inaugural speech."
   ]
  },
  {
   "cell_type": "code",
   "execution_count": null,
   "id": "698537c2",
   "metadata": {},
   "outputs": [],
   "source": [
    "lincoln=inaugural.words(fileids='1861-Lincoln.txt')\n",
    "print(lincoln)"
   ]
  },
  {
   "attachments": {},
   "cell_type": "markdown",
   "id": "d85e1bf6",
   "metadata": {},
   "source": [
    "### Words of Barack Obama in inaugural speech."
   ]
  },
  {
   "cell_type": "code",
   "execution_count": null,
   "id": "0a16f0a7",
   "metadata": {},
   "outputs": [],
   "source": [
    "obama=inaugural.words(fileids='2013-Obama.txt')\n",
    "print(obama)"
   ]
  },
  {
   "attachments": {},
   "cell_type": "markdown",
   "id": "12040cc5",
   "metadata": {},
   "source": [
    "### Words of Donald J. Trump in inaugural speech."
   ]
  },
  {
   "cell_type": "code",
   "execution_count": null,
   "id": "67909fe1",
   "metadata": {},
   "outputs": [],
   "source": [
    "trump=inaugural.words(fileids='2017-Trump.txt')\n",
    "print(trump)"
   ]
  },
  {
   "attachments": {},
   "cell_type": "markdown",
   "id": "b651a2f1",
   "metadata": {},
   "source": [
    "# Task 5: Frequency Distribution"
   ]
  },
  {
   "cell_type": "code",
   "execution_count": null,
   "id": "a0b62002",
   "metadata": {},
   "outputs": [],
   "source": [
    "from nltk.corpus import PlaintextCorpusReader\n",
    "corpus_root = nltk.data.find('corpora/inaugural')\n",
    "corpus = PlaintextCorpusReader(corpus_root, '.*\\.txt')"
   ]
  },
  {
   "attachments": {},
   "cell_type": "markdown",
   "id": "27b05783",
   "metadata": {},
   "source": [
    "### Frequency Distribution in the speech of Abraham Lincoln"
   ]
  },
  {
   "cell_type": "code",
   "execution_count": null,
   "id": "50072c5b",
   "metadata": {},
   "outputs": [],
   "source": [
    "fileid='1861-Lincoln.txt'\n",
    "lincoln_speech=corpus.raw(fileid)\n",
    "# print(fd_lincoln)\n",
    "fd_lincoln=nltk.FreqDist(lincoln_speech.split())\n",
    "print(fd_lincoln)"
   ]
  },
  {
   "attachments": {},
   "cell_type": "markdown",
   "id": "b249541f",
   "metadata": {},
   "source": [
    "### Frequency Distribution in the speech of Barack Obama"
   ]
  },
  {
   "cell_type": "code",
   "execution_count": null,
   "id": "a997d1c3",
   "metadata": {},
   "outputs": [],
   "source": [
    "fileid='2013-Obama.txt'\n",
    "obama_speech=corpus.raw(fileid)\n",
    "fd_obama=nltk.FreqDist(lincoln_speech.split())\n",
    "print(fd_obama)"
   ]
  },
  {
   "attachments": {},
   "cell_type": "markdown",
   "id": "8184611e",
   "metadata": {},
   "source": [
    "### Frequency Distrubution in the speech of Donald J. Trump"
   ]
  },
  {
   "cell_type": "code",
   "execution_count": null,
   "id": "c4d4afc4",
   "metadata": {},
   "outputs": [],
   "source": [
    "fileid='2017-Trump.txt'\n",
    "trump_speech=corpus.raw(fileid)\n",
    "fd_trump=nltk.FreqDist(lincoln_speech.split())\n",
    "print(fd_trump)"
   ]
  }
 ],
 "metadata": {
  "kernelspec": {
   "display_name": "Python 3",
   "language": "python",
   "name": "python3"
  },
  "language_info": {
   "codemirror_mode": {
    "name": "ipython",
    "version": 3
   },
   "file_extension": ".py",
   "mimetype": "text/x-python",
   "name": "python",
   "nbconvert_exporter": "python",
   "pygments_lexer": "ipython3",
   "version": "3.10.6"
  },
  "vscode": {
   "interpreter": {
    "hash": "916dbcbb3f70747c44a77c7bcd40155683ae19c65e1c03b4aa3499c5328201f1"
   }
  }
 },
 "nbformat": 4,
 "nbformat_minor": 5
}
